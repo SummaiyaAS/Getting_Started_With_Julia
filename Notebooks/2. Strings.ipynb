{
 "cells": [
  {
   "cell_type": "markdown",
   "metadata": {},
   "source": [
    "# Strings"
   ]
  },
  {
   "cell_type": "markdown",
   "metadata": {},
   "source": [
    "## String Declaration"
   ]
  },
  {
   "cell_type": "code",
   "execution_count": 1,
   "metadata": {},
   "outputs": [
    {
     "name": "stdout",
     "output_type": "stream",
     "text": [
      "This is a normal string.\n"
     ]
    }
   ],
   "source": [
    "s1 = \"This is a normal string.\"\n",
    "println(s1)"
   ]
  },
  {
   "cell_type": "code",
   "execution_count": 2,
   "metadata": {},
   "outputs": [
    {
     "ename": "LoadError",
     "evalue": "syntax: cannot juxtapose string literal",
     "output_type": "error",
     "traceback": [
      "syntax: cannot juxtapose string literal",
      ""
     ]
    }
   ],
   "source": [
    "s2 = \"This is an \"abnormal\" string.\" # Error\n",
    "println(s2)"
   ]
  },
  {
   "cell_type": "code",
   "execution_count": 3,
   "metadata": {},
   "outputs": [
    {
     "name": "stdout",
     "output_type": "stream",
     "text": [
      "This is an \"abnormal\" string.\n"
     ]
    }
   ],
   "source": [
    "s3 = \"\"\"This is an \"abnormal\" string.\"\"\"\n",
    "println(s3)"
   ]
  },
  {
   "cell_type": "code",
   "execution_count": 4,
   "metadata": {},
   "outputs": [
    {
     "name": "stdout",
     "output_type": "stream",
     "text": [
      "Char\n",
      "String\n"
     ]
    },
    {
     "ename": "LoadError",
     "evalue": "syntax: invalid character literal",
     "output_type": "error",
     "traceback": [
      "syntax: invalid character literal",
      ""
     ]
    }
   ],
   "source": [
    "println(typeof('a'))\n",
    "println(typeof(\"abc\"))\n",
    "println(typeof('abc')) # Error"
   ]
  },
  {
   "cell_type": "markdown",
   "metadata": {},
   "source": [
    "## String Interpolation"
   ]
  },
  {
   "cell_type": "code",
   "execution_count": 5,
   "metadata": {},
   "outputs": [
    {
     "name": "stdout",
     "output_type": "stream",
     "text": [
      "10 (Shoaib) bought 1.34 of 5 (Apples)\n"
     ]
    }
   ],
   "source": [
    "user_id = 10\n",
    "user_name = \"Shoaib\"\n",
    "\n",
    "item_id = 5\n",
    "item_name = \"Apples\"\n",
    "quantity = 1.34\n",
    "\n",
    "println(\"$user_id ($user_name) bought $quantity of $item_id ($item_name)\")"
   ]
  },
  {
   "cell_type": "code",
   "execution_count": 6,
   "metadata": {},
   "outputs": [
    {
     "name": "stdout",
     "output_type": "stream",
     "text": [
      "Total price: 16.049999999999997\n"
     ]
    }
   ],
   "source": [
    "item_one_price = 10.12\n",
    "item_two_price = 5.93\n",
    "println(\"Total price: $(item_one_price + item_two_price)\")"
   ]
  },
  {
   "cell_type": "markdown",
   "metadata": {},
   "source": [
    "## String concatenation"
   ]
  },
  {
   "cell_type": "code",
   "execution_count": 7,
   "metadata": {},
   "outputs": [
    {
     "name": "stdout",
     "output_type": "stream",
     "text": [
      "How are you? I am good.\n"
     ]
    }
   ],
   "source": [
    "str1 = \"How are you?\"\n",
    "str2 = \" I am good.\"\n",
    "str = string(str1, str2)\n",
    "println(str)"
   ]
  },
  {
   "cell_type": "code",
   "execution_count": 8,
   "metadata": {},
   "outputs": [
    {
     "name": "stdout",
     "output_type": "stream",
     "text": [
      "The price for first item was 10.12 while the price for the second item is 5.93\n"
     ]
    }
   ],
   "source": [
    "str = string(\"The price for first item was \", item_one_price, \" while the price for the second item is \", item_two_price)\n",
    "println(str)"
   ]
  },
  {
   "cell_type": "code",
   "execution_count": 9,
   "metadata": {},
   "outputs": [
    {
     "name": "stdout",
     "output_type": "stream",
     "text": [
      "How are you? I am good.\n"
     ]
    }
   ],
   "source": [
    "str = str1*str2\n",
    "println(str)"
   ]
  },
  {
   "cell_type": "code",
   "execution_count": 10,
   "metadata": {},
   "outputs": [
    {
     "name": "stdout",
     "output_type": "stream",
     "text": [
      "How are you? I am good.\n"
     ]
    }
   ],
   "source": [
    "str = \"$str1$str2\"\n",
    "println(str)"
   ]
  }
 ],
 "metadata": {
  "kernelspec": {
   "display_name": "Julia 1.0.0",
   "language": "julia",
   "name": "julia-1.0"
  },
  "language_info": {
   "file_extension": ".jl",
   "mimetype": "application/julia",
   "name": "julia",
   "version": "1.0.0"
  }
 },
 "nbformat": 4,
 "nbformat_minor": 2
}
